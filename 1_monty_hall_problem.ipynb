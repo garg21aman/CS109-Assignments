{
 "cells": [
  {
   "cell_type": "markdown",
   "metadata": {},
   "source": [
    "# The Monty Hall Problem\n",
    "The purpose of this notebook is to use computer simulations to find the answer to the monty hall problem. Should a contestant switch from the original guess or stick with it to maximize the chances of winning."
   ]
  },
  {
   "cell_type": "code",
   "execution_count": 2,
   "metadata": {},
   "outputs": [],
   "source": [
    "import numpy as np\n",
    "import scipy as sp"
   ]
  },
  {
   "cell_type": "code",
   "execution_count": 7,
   "metadata": {},
   "outputs": [],
   "source": [
    "\"\"\"\n",
    "The first step is to create instances of the game by randomly \n",
    "allocating prize between the doors 0, 1 and 3.\n",
    "\n",
    "I write a function which takes integer input(nsim) : number\n",
    "of simulations to run. \n",
    "    1.This function outputs numpy array of size\n",
    "      equal to nsim.\n",
    "    2.Every value in that indicates where the prize is located\n",
    "      for the simulation corresponding to the index.\n",
    "\n",
    "\"\"\"\n",
    "def simulate_prizedoor(nsim):\n",
    "    return np.random.randint(0,3,nsim)"
   ]
  },
  {
   "cell_type": "code",
   "execution_count": 4,
   "metadata": {},
   "outputs": [],
   "source": [
    "\"\"\"\n",
    "Simulation of the guesses from the contestant.\n",
    "The strategy used is same as the above.\n",
    "Create an array of random responses.\n",
    "\"\"\"\n",
    "def simulate_guess(nsim):\n",
    "    return np.random.randint(0,3,nsim)"
   ]
  },
  {
   "cell_type": "code",
   "execution_count": 14,
   "metadata": {},
   "outputs": [],
   "source": [
    "\"\"\"\n",
    "Next step is to simulate for the gate that gets opened after the\n",
    "contestant makes the guess.\n",
    "Door opened has to be different than the door where the prize is and\n",
    "the one which contestant has guessed.\n",
    "Lets call this door the goat door in accordance with the tv show.\n",
    "\"\"\"\n",
    "def simulate_goat_door(prize_door,guess_door,nsim):\n",
    "    #Initiate the goat_door with random door nos.\n",
    "    goat_door=np.random.randint(0,3,nsim)\n",
    "    \n",
    "    #With each iteration of while loop update the goat_array unitl\n",
    "    #None of the element matches with the corresponding prize_door\n",
    "    #or guess_door\n",
    "    \n",
    "    while(True):\n",
    "        bool_array=(prize_door==goat_door) | (guess_door==goat_door)\n",
    "        if not(bool_array.any()):\n",
    "            return goat_door\n",
    "        goat_door[bool_array]=np.random.randint(0,3,bool_array.sum())"
   ]
  },
  {
   "cell_type": "code",
   "execution_count": 35,
   "metadata": {},
   "outputs": [],
   "source": [
    "\"\"\"\n",
    "Switch_guess function to simulate the strategy where\n",
    "the contestant always switches from the first guess they made.\n",
    "\"\"\"\n",
    "def switch_guess(guess_door,goat_door,nsim):\n",
    "    switch_guess=3-(guess_door+goat_door)\n",
    "    return switch_guess"
   ]
  },
  {
   "cell_type": "code",
   "execution_count": 41,
   "metadata": {},
   "outputs": [
    {
     "name": "stdout",
     "output_type": "stream",
     "text": [
      "Win percent when sticks with the original guess\n",
      " 33.35\n",
      "Win percentage when switches\n",
      " 66.65\n"
     ]
    }
   ],
   "source": [
    "\"\"\"\n",
    "Now we put all the above functions together to calculate the\n",
    "final winning percentage in both of the cases\n",
    "1. Contestant sticks with the original guess\n",
    "2. Contestant switches the door\n",
    "\"\"\"\n",
    "\n",
    "#Simulate the game. Take 10000 instances of the game\n",
    "prize_door=simulate_prizedoor(10000)\n",
    "guess_door=simulate_guess(10000)\n",
    "goat_door=simulate_goat_door(prize_door,guess_door,10000)\n",
    "\n",
    "#Case 1 : Stick with the original guess\n",
    "result=(prize_door==guess_door)\n",
    "print(\"Win percent when sticks with the original guess:\\n\",result.sum()/100)\n",
    "\n",
    "#Case 2: Make the switch\n",
    "result=(prize_door==switch_guess(guess_door,goat_door,10000))\n",
    "print(\"Win percentage when switches:\\n\",result.sum()/100)"
   ]
  }
 ],
 "metadata": {
  "kernelspec": {
   "display_name": "Python 3",
   "language": "python",
   "name": "python3"
  }
 },
 "nbformat": 4,
 "nbformat_minor": 2
}
